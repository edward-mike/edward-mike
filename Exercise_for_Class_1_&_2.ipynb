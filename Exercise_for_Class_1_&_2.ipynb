{
  "cells": [
    {
      "cell_type": "markdown",
      "metadata": {
        "id": "view-in-github",
        "colab_type": "text"
      },
      "source": [
        "<a href=\"https://colab.research.google.com/github/edward-mike/edward-mike/blob/main/Exercise_for_Class_1_%26_2.ipynb\" target=\"_parent\"><img src=\"https://colab.research.google.com/assets/colab-badge.svg\" alt=\"Open In Colab\"/></a>"
      ]
    },
    {
      "cell_type": "markdown",
      "metadata": {
        "id": "fyZAFSk3j07L"
      },
      "source": [
        "## 1. Variables\n",
        "\n",
        "Create a variable called `x` and assign it the value 10. Then use `x` to create three more variables:\n",
        "\n",
        " - `a` which is x plus 1\n",
        " - `b` which is x squared\n",
        " - `c` which is x divided by two.\n",
        "\n",
        "Print the values of `a`, `b`, and `c` once they are assigned.\n",
        "\n",
        "\n",
        "<br>\n",
        "\n",
        "\n",
        "## 2. Variables\n",
        "\n",
        "Create a variable and assign it the value [\"2\",1,0,11,5] :\n",
        "\n",
        " - `a` check whether the variable has 1 in its values\n",
        " - `b` check whether the variable has 2 in its values\n",
        " - `c` what position is the value index value of 0\n",
        " - `d` what is the total items in the variable\n"
      ]
    },
    {
      "cell_type": "code",
      "execution_count": null,
      "metadata": {
        "id": "asC_zjSwj07M"
      },
      "outputs": [],
      "source": []
    },
    {
      "cell_type": "markdown",
      "metadata": {
        "id": "PJQx2d9vj07N"
      },
      "source": [
        "## 3. Lists\n",
        "\n",
        "Create a list that contains the values 1, 3, 5, 9, 15. Then use indexes and slicing to print the following elements from the list:\n",
        "\n",
        " - `a` The first element\n",
        " - `b` The last (assume you do not know the length of the list)\n",
        " - `c` Every other element in the list, starting at the first\n",
        " - `d` The list elements in reverse order\n",
        " - `e` what is the mean(average) value\n",
        "\n",
        "Print the values of `a`, `b`, `c`,`d` and `e` once they are assigned."
      ]
    },
    {
      "cell_type": "code",
      "execution_count": null,
      "metadata": {
        "id": "shA9csINj07N"
      },
      "outputs": [],
      "source": []
    },
    {
      "cell_type": "markdown",
      "metadata": {
        "id": "E3fyeGqwj07N"
      },
      "source": [
        "## 4. Dictionaries\n",
        "\n",
        "Create a dictionary to store the following information about a person:\n",
        "\n",
        " - `a`Their name is John\n",
        " - `b` Their age is 30\n",
        " - `c` Their alergies are: Dust, Feathers, Strawberries\n",
        " - `d` They have two children, Ben who is 6 and Elly who is 8 years old\n",
        "\n",
        " Then add the fact that they have just had a third child, Jenny, whose age is 0\n",
        "\n",
        " Finally, print the new dictionary"
      ]
    },
    {
      "cell_type": "markdown",
      "source": [
        "## 5. Strings\n",
        "\n",
        "Create two strings that represents your firstname and lastname:\n",
        "Note: The values must all be in lowercase.\n",
        "\n",
        "- `a` Change all the letters to upper using the appropraite string operation\n",
        "- `b` Count how many letters are in both first and last name\n",
        "- `c` join(concatenate) both names to get a fullname\n",
        "- `d` check if your first name starts with the letter \"c\"\n",
        "- `e` check if your last name contains the letter \"p\"\n"
      ],
      "metadata": {
        "id": "LtOoADFnC0Xm"
      }
    },
    {
      "cell_type": "code",
      "execution_count": null,
      "metadata": {
        "id": "UcZ7rdf6j07O"
      },
      "outputs": [],
      "source": []
    },
    {
      "cell_type": "markdown",
      "metadata": {
        "id": "oG1yAn3Xj07O"
      },
      "source": [
        "## 6. Choosing a Data Type\n",
        "Choose an appropriate data type for each of these scenarios, create and assign the variable and add a comment saying what type it is. Then print each variable and its type to prove that each variable is the type you say it is. Choose from:\n",
        "\n",
        "- `set`\n",
        "- `tuple`\n",
        "- `list`\n",
        "- `dictionary`\n",
        "\n",
        "Choose a type from the list above to create each of the following:\n",
        "\n",
        "1. Store the words \"Cat\" and \"Dog\" so that new elements cannot be added and neither entry can be changed\n",
        "2. Store the unique words found in the sentence: \"I go where I go\"\n",
        "3. Store the words \"Cat\" and \"Dog\" so that new elements can be added and either entry can be changed\n"
      ]
    },
    {
      "cell_type": "code",
      "source": [],
      "metadata": {
        "id": "hL13Ebt0FMo6"
      },
      "execution_count": null,
      "outputs": []
    },
    {
      "cell_type": "markdown",
      "source": [
        "## BMI Calculator\n",
        "\n",
        "The body mass index (BMI) is a measure that uses your height and weight to work out if your weight is healthy. <br>\n",
        "* below 18.5 – you're in the underweight range\n",
        "* between 18.5 and 24.9 – you're in the healthy weight range\n",
        "* between 25 and 29.9 – you're in the overweight range\n",
        "* 30 or over – you're in the obese range\n",
        "\n",
        "\n",
        "## `BMI = Weight/Height*Height`\n",
        "\n",
        "<br>\n",
        "\n",
        "## 7. Question. <br>\n",
        "John weighs 75 kilograms and is 1.8 meters tall.\n",
        "\n",
        "`a` Calculate John's BMI (Body Mass Index) <br>\n",
        "`b` Determine which category it falls into according to the standard BMI categories.<br>\n",
        "`c` what will the value of BMI be if the height is 0"
      ],
      "metadata": {
        "id": "qkwBwtUPG_in"
      }
    },
    {
      "cell_type": "code",
      "source": [],
      "metadata": {
        "id": "8sQxdRQpJqae"
      },
      "execution_count": null,
      "outputs": []
    }
  ],
  "metadata": {
    "kernelspec": {
      "display_name": "Python 3 (ipykernel)",
      "language": "python",
      "name": "python3"
    },
    "language_info": {
      "codemirror_mode": {
        "name": "ipython",
        "version": 3
      },
      "file_extension": ".py",
      "mimetype": "text/x-python",
      "name": "python",
      "nbconvert_exporter": "python",
      "pygments_lexer": "ipython3",
      "version": "3.7.11"
    },
    "colab": {
      "provenance": [],
      "include_colab_link": true
    }
  },
  "nbformat": 4,
  "nbformat_minor": 0
}