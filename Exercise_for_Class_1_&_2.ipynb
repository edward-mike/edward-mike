{
  "cells": [
    {
      "cell_type": "markdown",
      "metadata": {
        "id": "view-in-github",
        "colab_type": "text"
      },
      "source": [
        "<a href=\"https://colab.research.google.com/github/edward-mike/edward-mike/blob/main/Exercise_for_Class_1_%26_2.ipynb\" target=\"_parent\"><img src=\"https://colab.research.google.com/assets/colab-badge.svg\" alt=\"Open In Colab\"/></a>"
      ]
    },
    {
      "cell_type": "markdown",
      "metadata": {
        "id": "fyZAFSk3j07L"
      },
      "source": [
        "## 1. Variables\n",
        "\n",
        "Create a variable called `x` and assign it the value 10. Then use `x` to create three more variables:\n",
        "\n",
        " - `a` which is x plus 1\n",
        " - `b` which is x squared\n",
        " - `c` which is x divided by two.\n",
        "\n",
        "Print the values of `a`, `b`, and `c` once they are assigned.\n",
        "\n",
        "\n",
        "<br>\n",
        "\n",
        "\n",
        "## 2. Variables\n",
        "\n",
        "Create a variable and assign it the value [\"2\",1,0,11,5] :\n",
        "\n",
        " - `a` check whether the variable has 1 in its values\n",
        " - `b` check whether the variable has 2 in its values\n",
        " - `c` what position is the value index value of 0\n",
        " - `d` what is the total items in the variable\n",
        "\n",
        "Print the values of `a`, `b`, and `c` once they are assigned."
      ]
    },
    {
      "cell_type": "code",
      "execution_count": null,
      "metadata": {
        "id": "asC_zjSwj07M"
      },
      "outputs": [],
      "source": []
    },
    {
      "cell_type": "markdown",
      "metadata": {
        "id": "PJQx2d9vj07N"
      },
      "source": [
        "## 3. Lists\n",
        "\n",
        "Create a list that contains the values 1, 3, 5, 9, 15. Then use indexes and slicing to print the following elements from the list:\n",
        "\n",
        " - The first element\n",
        " - The last (assume you do not know the length of the list)\n",
        " - Every other element in the list, starting at the first\n",
        " - The list elements in reverse order\n",
        " - what is the mean(average) value\n"
      ]
    },
    {
      "cell_type": "code",
      "execution_count": null,
      "metadata": {
        "id": "shA9csINj07N"
      },
      "outputs": [],
      "source": []
    },
    {
      "cell_type": "markdown",
      "metadata": {
        "id": "E3fyeGqwj07N"
      },
      "source": [
        "## 4. Dictionaries\n",
        "\n",
        "Create a dictionary to store the following information about a person:\n",
        "\n",
        " - Their name is Jane\n",
        " - Their age is 32\n",
        " - Their alergies are: Dust, Feathers, Strawberries\n",
        " - They have two children, Ben who is 6 and Elly who is 8\n",
        "\n",
        " Then add the fact that they have just had a third child, Jenny, whose age is 0\n",
        "\n",
        " Finally, print the new dictionary"
      ]
    },
    {
      "cell_type": "markdown",
      "source": [
        "## 5. Strings\n",
        "\n",
        "Create two strings that represents your firstname and lastname:\n",
        "Note: The values must all be in lowercase.\n",
        "\n",
        "- `a` Change all the letters to upper using the appropraite string operation\n",
        "- `b` Count how many letters are in both first and last name\n",
        "- `c` join(concatenate) both names to get a fullname\n",
        "- `d` check if your first name starts with the letter \"c\"\n",
        "- `e` check if your last name contains the letter \"p\"\n"
      ],
      "metadata": {
        "id": "LtOoADFnC0Xm"
      }
    },
    {
      "cell_type": "code",
      "execution_count": null,
      "metadata": {
        "id": "UcZ7rdf6j07O"
      },
      "outputs": [],
      "source": []
    },
    {
      "cell_type": "markdown",
      "metadata": {
        "id": "oG1yAn3Xj07O"
      },
      "source": [
        "## 6. Choosing a Data Type\n",
        "Choose an appropriate data type for each of these scenarios, create and assign the variable and add a comment saying what type it is. Then print each variable and its type to prove that each variable is the type you say it is. Choose from:\n",
        "\n",
        "- `set`\n",
        "- `tuple`\n",
        "- `list`\n",
        "- `dictionary`\n",
        "\n",
        "Choose a type from the list above to create each of the following:\n",
        "\n",
        "1. Store the words \"Cat\" and \"Dog\" so that new elements cannot be added and neither entry can be changed\n",
        "2. Store the unique words found in the sentence: \"I go where I go\"\n",
        "3. Store the words \"Cat\" and \"Dog\" so that new elements can be added and either entry can be changed\n"
      ]
    },
    {
      "cell_type": "code",
      "source": [],
      "metadata": {
        "id": "hL13Ebt0FMo6"
      },
      "execution_count": null,
      "outputs": []
    }
  ],
  "metadata": {
    "kernelspec": {
      "display_name": "Python 3 (ipykernel)",
      "language": "python",
      "name": "python3"
    },
    "language_info": {
      "codemirror_mode": {
        "name": "ipython",
        "version": 3
      },
      "file_extension": ".py",
      "mimetype": "text/x-python",
      "name": "python",
      "nbconvert_exporter": "python",
      "pygments_lexer": "ipython3",
      "version": "3.7.11"
    },
    "colab": {
      "provenance": [],
      "include_colab_link": true
    }
  },
  "nbformat": 4,
  "nbformat_minor": 0
}